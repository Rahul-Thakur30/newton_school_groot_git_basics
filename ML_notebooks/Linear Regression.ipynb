{
 "cells": [
  {
   "cell_type": "code",
   "execution_count": 27,
   "id": "4de0f359",
   "metadata": {},
   "outputs": [],
   "source": [
    "import numpy as np\n",
    "import pandas as pd\n",
    "from sklearn.model_selection import train_test_split\n",
    "from sklearn.linear_model import LinearRegression\n",
    "from sklearn.metrics import mean_squared_error,mean_absolute_error"
   ]
  },
  {
   "cell_type": "code",
   "execution_count": 2,
   "id": "5ea1494a",
   "metadata": {},
   "outputs": [],
   "source": [
    "import matplotlib.pyplot as plt"
   ]
  },
  {
   "cell_type": "code",
   "execution_count": 3,
   "id": "ab9bb716",
   "metadata": {},
   "outputs": [],
   "source": [
    "df = pd.read_csv('csv_files/advertising.csv')"
   ]
  },
  {
   "cell_type": "code",
   "execution_count": 4,
   "id": "067f8884",
   "metadata": {},
   "outputs": [
    {
     "data": {
      "text/html": [
       "<div>\n",
       "<style scoped>\n",
       "    .dataframe tbody tr th:only-of-type {\n",
       "        vertical-align: middle;\n",
       "    }\n",
       "\n",
       "    .dataframe tbody tr th {\n",
       "        vertical-align: top;\n",
       "    }\n",
       "\n",
       "    .dataframe thead th {\n",
       "        text-align: right;\n",
       "    }\n",
       "</style>\n",
       "<table border=\"1\" class=\"dataframe\">\n",
       "  <thead>\n",
       "    <tr style=\"text-align: right;\">\n",
       "      <th></th>\n",
       "      <th>TV</th>\n",
       "      <th>Radio</th>\n",
       "      <th>Newspaper</th>\n",
       "      <th>Sales</th>\n",
       "    </tr>\n",
       "  </thead>\n",
       "  <tbody>\n",
       "    <tr>\n",
       "      <th>0</th>\n",
       "      <td>230.1</td>\n",
       "      <td>37.8</td>\n",
       "      <td>69.2</td>\n",
       "      <td>22.1</td>\n",
       "    </tr>\n",
       "    <tr>\n",
       "      <th>1</th>\n",
       "      <td>44.5</td>\n",
       "      <td>39.3</td>\n",
       "      <td>45.1</td>\n",
       "      <td>10.4</td>\n",
       "    </tr>\n",
       "    <tr>\n",
       "      <th>2</th>\n",
       "      <td>17.2</td>\n",
       "      <td>45.9</td>\n",
       "      <td>69.3</td>\n",
       "      <td>12.0</td>\n",
       "    </tr>\n",
       "    <tr>\n",
       "      <th>3</th>\n",
       "      <td>151.5</td>\n",
       "      <td>41.3</td>\n",
       "      <td>58.5</td>\n",
       "      <td>16.5</td>\n",
       "    </tr>\n",
       "    <tr>\n",
       "      <th>4</th>\n",
       "      <td>180.8</td>\n",
       "      <td>10.8</td>\n",
       "      <td>58.4</td>\n",
       "      <td>17.9</td>\n",
       "    </tr>\n",
       "  </tbody>\n",
       "</table>\n",
       "</div>"
      ],
      "text/plain": [
       "      TV  Radio  Newspaper  Sales\n",
       "0  230.1   37.8       69.2   22.1\n",
       "1   44.5   39.3       45.1   10.4\n",
       "2   17.2   45.9       69.3   12.0\n",
       "3  151.5   41.3       58.5   16.5\n",
       "4  180.8   10.8       58.4   17.9"
      ]
     },
     "execution_count": 4,
     "metadata": {},
     "output_type": "execute_result"
    }
   ],
   "source": [
    "df.head()"
   ]
  },
  {
   "cell_type": "code",
   "execution_count": 5,
   "id": "e9dfb710",
   "metadata": {},
   "outputs": [
    {
     "data": {
      "text/plain": [
       "(200, 4)"
      ]
     },
     "execution_count": 5,
     "metadata": {},
     "output_type": "execute_result"
    }
   ],
   "source": [
    "df.shape"
   ]
  },
  {
   "cell_type": "markdown",
   "id": "14d7efee",
   "metadata": {},
   "source": [
    "#### Since we have target variable which we want predict with examples, so it is a supervised learning problem\n",
    "#### It is a regression problem "
   ]
  },
  {
   "cell_type": "markdown",
   "id": "a8353727",
   "metadata": {},
   "source": [
    "## Step1: Split our data into train and test sets"
   ]
  },
  {
   "cell_type": "code",
   "execution_count": 7,
   "id": "138d73fb",
   "metadata": {},
   "outputs": [],
   "source": [
    "df_train,df_test = train_test_split(df,test_size=0.3)\n"
   ]
  },
  {
   "cell_type": "code",
   "execution_count": 9,
   "id": "d822d027",
   "metadata": {},
   "outputs": [
    {
     "data": {
      "text/plain": [
       "(140, 4)"
      ]
     },
     "execution_count": 9,
     "metadata": {},
     "output_type": "execute_result"
    }
   ],
   "source": [
    "df_train.shape"
   ]
  },
  {
   "cell_type": "code",
   "execution_count": 10,
   "id": "aa9c91e9",
   "metadata": {},
   "outputs": [
    {
     "data": {
      "text/plain": [
       "(60, 4)"
      ]
     },
     "execution_count": 10,
     "metadata": {},
     "output_type": "execute_result"
    }
   ],
   "source": [
    "df_test.shape"
   ]
  },
  {
   "cell_type": "code",
   "execution_count": 12,
   "id": "f508345c",
   "metadata": {},
   "outputs": [
    {
     "data": {
      "text/plain": [
       "<AxesSubplot:xlabel='TV', ylabel='Sales'>"
      ]
     },
     "execution_count": 12,
     "metadata": {},
     "output_type": "execute_result"
    },
    {
     "data": {
      "image/png": "[encoded data removed]",
      "text/plain": [
       "<Figure size 432x288 with 1 Axes>"
      ]
     },
     "metadata": {
      "needs_background": "light"
     },
     "output_type": "display_data"
    }
   ],
   "source": [
    "df_train[['TV','Sales']].plot.scatter(x='TV',y='Sales')\n"
   ]
  },
  {
   "cell_type": "code",
   "execution_count": 13,
   "id": "0adb164f",
   "metadata": {},
   "outputs": [
    {
     "data": {
      "text/plain": [
       "<AxesSubplot:xlabel='Radio', ylabel='Sales'>"
      ]
     },
     "execution_count": 13,
     "metadata": {},
     "output_type": "execute_result"
    },
    {
     "data": {
      "image/png": "[encoded data removed]",
      "text/plain": [
       "<Figure size 432x288 with 1 Axes>"
      ]
     },
     "metadata": {
      "needs_background": "light"
     },
     "output_type": "display_data"
    }
   ],
   "source": [
    "df_train[['Radio','Sales']].plot.scatter(x='Radio',y='Sales')\n"
   ]
  },
  {
   "cell_type": "code",
   "execution_count": 14,
   "id": "1fa10503",
   "metadata": {},
   "outputs": [
    {
     "data": {
      "text/plain": [
       "<AxesSubplot:xlabel='Newspaper', ylabel='Sales'>"
      ]
     },
     "execution_count": 14,
     "metadata": {},
     "output_type": "execute_result"
    },
    {
     "data": {
      "image/png": "[encoded data removed]",
      "text/plain": [
       "<Figure size 432x288 with 1 Axes>"
      ]
     },
     "metadata": {
      "needs_background": "light"
     },
     "output_type": "display_data"
    }
   ],
   "source": [
    "df_train[['Newspaper','Sales']].plot.scatter(x='Newspaper',y='Sales')\n"
   ]
  },
  {
   "cell_type": "code",
   "execution_count": 15,
   "id": "e34a054c",
   "metadata": {},
   "outputs": [
    {
     "data": {
      "text/html": [
       "<div>\n",
       "<style scoped>\n",
       "    .dataframe tbody tr th:only-of-type {\n",
       "        vertical-align: middle;\n",
       "    }\n",
       "\n",
       "    .dataframe tbody tr th {\n",
       "        vertical-align: top;\n",
       "    }\n",
       "\n",
       "    .dataframe thead th {\n",
       "        text-align: right;\n",
       "    }\n",
       "</style>\n",
       "<table border=\"1\" class=\"dataframe\">\n",
       "  <thead>\n",
       "    <tr style=\"text-align: right;\">\n",
       "      <th></th>\n",
       "      <th>TV</th>\n",
       "      <th>Radio</th>\n",
       "      <th>Newspaper</th>\n",
       "      <th>Sales</th>\n",
       "    </tr>\n",
       "  </thead>\n",
       "  <tbody>\n",
       "    <tr>\n",
       "      <th>TV</th>\n",
       "      <td>1.000000</td>\n",
       "      <td>0.044066</td>\n",
       "      <td>0.035838</td>\n",
       "      <td>0.895648</td>\n",
       "    </tr>\n",
       "    <tr>\n",
       "      <th>Radio</th>\n",
       "      <td>0.044066</td>\n",
       "      <td>1.000000</td>\n",
       "      <td>0.360160</td>\n",
       "      <td>0.345526</td>\n",
       "    </tr>\n",
       "    <tr>\n",
       "      <th>Newspaper</th>\n",
       "      <td>0.035838</td>\n",
       "      <td>0.360160</td>\n",
       "      <td>1.000000</td>\n",
       "      <td>0.138600</td>\n",
       "    </tr>\n",
       "    <tr>\n",
       "      <th>Sales</th>\n",
       "      <td>0.895648</td>\n",
       "      <td>0.345526</td>\n",
       "      <td>0.138600</td>\n",
       "      <td>1.000000</td>\n",
       "    </tr>\n",
       "  </tbody>\n",
       "</table>\n",
       "</div>"
      ],
      "text/plain": [
       "                 TV     Radio  Newspaper     Sales\n",
       "TV         1.000000  0.044066   0.035838  0.895648\n",
       "Radio      0.044066  1.000000   0.360160  0.345526\n",
       "Newspaper  0.035838  0.360160   1.000000  0.138600\n",
       "Sales      0.895648  0.345526   0.138600  1.000000"
      ]
     },
     "execution_count": 15,
     "metadata": {},
     "output_type": "execute_result"
    }
   ],
   "source": [
    "df_train.corr()"
   ]
  },
  {
   "cell_type": "code",
   "execution_count": 17,
   "id": "8371aaf5",
   "metadata": {},
   "outputs": [],
   "source": [
    "model = LinearRegression()"
   ]
  },
  {
   "cell_type": "code",
   "execution_count": 18,
   "id": "7d8795c2",
   "metadata": {},
   "outputs": [],
   "source": [
    "model = model.fit(df_train[['TV','Radio','Newspaper']],df_train['Sales'])"
   ]
  },
  {
   "cell_type": "code",
   "execution_count": 20,
   "id": "1f74303d",
   "metadata": {},
   "outputs": [
    {
     "data": {
      "text/plain": [
       "array([ 0.05533285,  0.11128139, -0.00095862])"
      ]
     },
     "execution_count": 20,
     "metadata": {},
     "output_type": "execute_result"
    }
   ],
   "source": [
    "model.coef_"
   ]
  },
  {
   "cell_type": "code",
   "execution_count": 21,
   "id": "1c0f2f1c",
   "metadata": {},
   "outputs": [
    {
     "data": {
      "text/plain": [
       "4.563586154845217"
      ]
     },
     "execution_count": 21,
     "metadata": {},
     "output_type": "execute_result"
    }
   ],
   "source": [
    "model.intercept_"
   ]
  },
  {
   "cell_type": "code",
   "execution_count": 24,
   "id": "0b96b140",
   "metadata": {},
   "outputs": [
    {
     "data": {
      "text/plain": [
       "0.8960526635037722"
      ]
     },
     "execution_count": 24,
     "metadata": {},
     "output_type": "execute_result"
    }
   ],
   "source": [
    "model.score(df_train[['TV','Radio','Newspaper']],df_train['Sales'])"
   ]
  },
  {
   "cell_type": "code",
   "execution_count": 25,
   "id": "e5679dab",
   "metadata": {},
   "outputs": [
    {
     "data": {
      "text/plain": [
       "0.9084598028837515"
      ]
     },
     "execution_count": 25,
     "metadata": {},
     "output_type": "execute_result"
    }
   ],
   "source": [
    "model.score(df_test[['TV','Radio','Newspaper']],df_test['Sales'])"
   ]
  },
  {
   "cell_type": "code",
   "execution_count": 26,
   "id": "9d47ae00",
   "metadata": {},
   "outputs": [
    {
     "data": {
      "text/plain": [
       "array(['TV', 'Radio', 'Newspaper'], dtype=object)"
      ]
     },
     "execution_count": 26,
     "metadata": {},
     "output_type": "execute_result"
    }
   ],
   "source": [
    "model.feature_names_in_"
   ]
  },
  {
   "cell_type": "code",
   "execution_count": 29,
   "id": "daf6c85c",
   "metadata": {},
   "outputs": [],
   "source": [
    "test_predicted_sales = model.predict(df_test[['TV','Radio','Newspaper']])"
   ]
  },
  {
   "cell_type": "code",
   "execution_count": 31,
   "id": "a2b9befb",
   "metadata": {},
   "outputs": [],
   "source": [
    "test_actual_sales = df_test['Sales'].values"
   ]
  },
  {
   "cell_type": "code",
   "execution_count": 32,
   "id": "8aa59507",
   "metadata": {},
   "outputs": [
    {
     "data": {
      "text/plain": [
       "array([11.83038283, 21.41892629,  5.27218095, 13.83270188, 13.26624805,\n",
       "       15.71911633, 20.78573423, 21.32417212, 15.21350904, 10.41474555,\n",
       "        7.07581316, 21.14008722, 12.45823986, 12.20006856, 17.83620491,\n",
       "        5.30841838, 14.81548839, 10.08010252, 17.30088396,  8.99246129,\n",
       "       10.65634505,  8.27912517, 24.90703222, 21.17127783,  7.9703355 ,\n",
       "        8.7708642 ,  5.94127249, 21.93204519,  9.88599754,  8.05483622,\n",
       "        7.86856942,  7.72594187, 15.3201707 , 17.23541042, 17.48635491,\n",
       "       21.68379261,  6.92238357, 23.72133835, 16.09326605, 10.31116618,\n",
       "       12.67925588, 18.42383436, 16.9214086 , 18.94846826, 21.34410819,\n",
       "       11.81691916, 15.14637222, 15.88809812, 12.56341253, 20.10741319,\n",
       "       15.93089333, 10.95272952, 17.23848877, 10.95800675, 20.9485981 ,\n",
       "       10.21147585, 14.22060972, 12.49071014, 21.48533088, 15.38628207])"
      ]
     },
     "execution_count": 32,
     "metadata": {},
     "output_type": "execute_result"
    }
   ],
   "source": [
    "test_predicted_sales"
   ]
  },
  {
   "cell_type": "code",
   "execution_count": 33,
   "id": "000467a0",
   "metadata": {},
   "outputs": [
    {
     "data": {
      "text/plain": [
       "array([12. , 22.3,  4.8, 12.2, 13.6, 15. , 19.7, 18.9, 15.2,  7.2,  7.6,\n",
       "       22.6, 11.6, 12.4, 16.9,  5.3, 16.7, 13.2, 15. , 11.9, 11.3,  8.7,\n",
       "       23.8, 19.8,  7. ,  8.5,  5.9, 20.9, 10.1,  5.5,  7.6,  8.1, 15.5,\n",
       "       16.5, 16.5, 19.8,  6.7, 24.2, 16.4,  9.5, 11.9, 16. , 17.9, 18.3,\n",
       "       21.5, 11. , 16. , 15.6, 12.6, 16.8, 16.4, 10.4, 20.2, 11.3, 17.6,\n",
       "       10.5, 13.2, 10.3, 17.4, 14.8])"
      ]
     },
     "execution_count": 33,
     "metadata": {},
     "output_type": "execute_result"
    }
   ],
   "source": [
    "test_actual_sales"
   ]
  },
  {
   "cell_type": "code",
   "execution_count": 34,
   "id": "42cd042c",
   "metadata": {},
   "outputs": [
    {
     "data": {
      "text/plain": [
       "2.256368978873577"
      ]
     },
     "execution_count": 34,
     "metadata": {},
     "output_type": "execute_result"
    }
   ],
   "source": [
    "mean_squared_error(test_actual_sales,test_predicted_sales)"
   ]
  },
  {
   "cell_type": "code",
   "execution_count": 35,
   "id": "20b78aa4",
   "metadata": {},
   "outputs": [
    {
     "data": {
      "text/plain": [
       "1.5021214927140805"
      ]
     },
     "execution_count": 35,
     "metadata": {},
     "output_type": "execute_result"
    }
   ],
   "source": [
    "mean_squared_error(test_actual_sales,test_predicted_sales,squared=False)"
   ]
  },
  {
   "cell_type": "code",
   "execution_count": 37,
   "id": "9f4caa99",
   "metadata": {},
   "outputs": [
    {
     "data": {
      "text/plain": [
       "1.102559467857339"
      ]
     },
     "execution_count": 37,
     "metadata": {},
     "output_type": "execute_result"
    }
   ],
   "source": [
    "mean_absolute_error(test_actual_sales,test_predicted_sales)"
   ]
  },
  {
   "cell_type": "code",
   "execution_count": null,
   "id": "f2725362",
   "metadata": {},
   "outputs": [],
   "source": []
  }
 ],
 "metadata": {
  "kernelspec": {
   "display_name": "Python 3 (ipykernel)",
   "language": "python",
   "name": "python3"
  },
  "language_info": {
   "codemirror_mode": {
    "name": "ipython",
    "version": 3
   },
   "file_extension": ".py",
   "mimetype": "text/x-python",
   "name": "python",
   "nbconvert_exporter": "python",
   "pygments_lexer": "ipython3",
   "version": "3.10.7"
  }
 },
 "nbformat": 4,
 "nbformat_minor": 5
}
